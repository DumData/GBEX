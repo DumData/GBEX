{
 "cells": [
  {
   "cell_type": "markdown",
   "metadata": {},
   "source": [
    "# README\n",
    "In this notebook we will go through the workflow of uploading and downloading information from GBEX.\n",
    "Its mostly uses a default django-rest-framework setup, so anything from the django-rest-framework documentation is probably valid here aswell.\n",
    "Login is set to \"token\" based, but other authentication backends can also be configured. See django and/or django-rest-framework documentation.\n",
    "\n",
    "This tutorial assumes the default database model setup. If you have changed the database model, please make changes to this tutorial as needed.\n",
    "\n",
    "### Basic API stuff:\n",
    "Communication happens via the requests package which sends standard http requests:\n",
    "1. a GET request \"gets\" information\n",
    "  1. On a GET you can filter objects by specifying a \"params\" dictionary (examples below)\n",
    "2. a POST request creates new objects\n",
    "  1. In a POST you specify a data dictionary with the fields needed for the object (these can be found in the database schema, read futher down)\n",
    "3. a PUT or PATCH request updates existing objects (PUT replaces all fields with a new value, PATCH only changes specified fields)\n",
    "  1. PUT and PATCH requires the same as the POST.\n",
    "\n",
    "\n",
    "### Database schema can be reviewed at either\n",
    "1. localhost/api\n",
    "  1. django rest framework interface, allows login, interaction, but doesnt show data types/info\n",
    "2. localhost/swagger\n",
    "  1. swagger interface, does not allow login (you must be logged in from previously visiting GBEX, the admin interface or the django rest framework API), but allows interaction and shows data types\n",
    "3. localhost/redoc\n",
    "  1. redoc interface, does not allow login (you must be logged in from previously visiting GBEX, the admin interface or the django rest framework API), but allows interaction and shows data types. I find this interface particularly good for getting a list of fields for each model"
   ]
  },
  {
   "cell_type": "code",
   "execution_count": 11,
   "metadata": {},
   "outputs": [
    {
     "name": "stdout",
     "output_type": "stream",
     "text": [
      "Requirement already up-to-date: requests in /home/laeb/.pyenv/versions/3.8.2/envs/gbex_api/lib/python3.8/site-packages (2.23.0)\n",
      "Collecting pytz\n",
      "  Using cached pytz-2020.1-py2.py3-none-any.whl (510 kB)\n",
      "Requirement already satisfied, skipping upgrade: idna<3,>=2.5 in /home/laeb/.pyenv/versions/3.8.2/envs/gbex_api/lib/python3.8/site-packages (from requests) (2.9)\n",
      "Requirement already satisfied, skipping upgrade: urllib3!=1.25.0,!=1.25.1,<1.26,>=1.21.1 in /home/laeb/.pyenv/versions/3.8.2/envs/gbex_api/lib/python3.8/site-packages (from requests) (1.25.9)\n",
      "Requirement already satisfied, skipping upgrade: certifi>=2017.4.17 in /home/laeb/.pyenv/versions/3.8.2/envs/gbex_api/lib/python3.8/site-packages (from requests) (2020.4.5.1)\n",
      "Requirement already satisfied, skipping upgrade: chardet<4,>=3.0.2 in /home/laeb/.pyenv/versions/3.8.2/envs/gbex_api/lib/python3.8/site-packages (from requests) (3.0.4)\n",
      "Installing collected packages: pytz\n",
      "Successfully installed pytz-2020.1\n"
     ]
    }
   ],
   "source": [
    "#This tutorial requires the following python packages:  \n",
    "# requests and pytz\n",
    "\n",
    "!pip install -U requests pytz"
   ]
  },
  {
   "cell_type": "code",
   "execution_count": 2,
   "metadata": {},
   "outputs": [],
   "source": [
    "# The default GBEX setup uses token based authentication.\n",
    "# To create a token, visit: localhost/admin\n",
    "# Click \"tokens\", then \"add token\"\n",
    "# Then either enter user id or search for a user (your superuser probably has id 1)\n",
    "# Then click save and you should then see a \"key\". Copy and paste that here\n",
    "\n",
    "auth_token = '25cb2aeb008101c504da971b20ca0215626dcf46'\n",
    "base_url = 'http://localhost'"
   ]
  },
  {
   "cell_type": "code",
   "execution_count": 56,
   "metadata": {},
   "outputs": [],
   "source": [
    "# create a session and add the auth token to it\n",
    "import requests\n",
    "c = requests.session()\n",
    "c.headers.update({'Authorization': f'Token {auth_token}'})"
   ]
  },
  {
   "cell_type": "code",
   "execution_count": 7,
   "metadata": {},
   "outputs": [],
   "source": [
    "# ok step 1, lets create a plasmid\n",
    "# to do that we need to create a dict describing a plasmid\n",
    "# visit http://localhost/redoc/#operation/Plasmid_create to see what that dict should look like\n",
    "# under the Plasmid_create header you can see that you need to supply a dict with the following info:\n",
    "#    \"name\": \"string, default PL1\",\n",
    "#    \"Description\": \"string, nullable\",\n",
    "#    \"responsible\": \"integer, nullable\"\n",
    "#\n",
    "# That means that you can give a name, but if you don't, it will be given \"PL1\", and you can also give a Description and a responsible but those are \"nullable\", aka not required\n",
    "# get your userid (e.g. from the admin interface)\n",
    "my_user_id = 1\n",
    "\n",
    "data = {\n",
    "    \"Description\": \"this is a really nice plasmid\",\n",
    "    \"responsible\": my_user_id,  \n",
    "}"
   ]
  },
  {
   "cell_type": "code",
   "execution_count": 9,
   "metadata": {},
   "outputs": [
    {
     "name": "stdout",
     "output_type": "stream",
     "text": [
      "201\n"
     ]
    },
    {
     "data": {
      "text/plain": [
       "{'id': 3,\n",
       " 'name': 'PL3',\n",
       " 'Genbank_file': None,\n",
       " 'created': '2020-05-08T14:10:36.873887+02:00',\n",
       " 'edited': '2020-05-08T14:10:36.873922+02:00',\n",
       " 'Description': 'this is a really nice plasmid',\n",
       " 'responsible': 1}"
      ]
     },
     "execution_count": 9,
     "metadata": {},
     "output_type": "execute_result"
    }
   ],
   "source": [
    "# create a plasmid. Post requests MUST with a slash otherwise you get error 500\n",
    "res = c.post(f\"{base_url}/api/Plasmid/\", data=data)\n",
    "\n",
    "# print the status code (201 = good)\n",
    "print(res.status_code)\n",
    "\n",
    "# show the json response (if succesful, it returns the newly created object)\n",
    "res.json()"
   ]
  },
  {
   "cell_type": "code",
   "execution_count": 12,
   "metadata": {},
   "outputs": [
    {
     "data": {
      "text/plain": [
       "1"
      ]
     },
     "execution_count": 12,
     "metadata": {},
     "output_type": "execute_result"
    }
   ],
   "source": [
    "# now lets create a Strain and link it with the plasmid\n",
    "# first lets get the plasmid id. In this tutorial we could easily get the Plasmid id from the \"res.json()\" object, but lets query the API for plasmids created by user 1\n",
    "plasmid_id = c.get(f\"{base_url}/api/Plasmid\", params={'responsible': my_user_id}).json()[0]['id']\n",
    "plasmid_id"
   ]
  },
  {
   "cell_type": "code",
   "execution_count": 29,
   "metadata": {},
   "outputs": [
    {
     "name": "stdout",
     "output_type": "stream",
     "text": [
      "IntegrityError at /api/SpeciesOption/\n",
      "duplicate key value violates unique constraint \"GBEX_app_speciesoption_name_key\"\n",
      "DETAIL:  Key (name)=(ecoli) already exists.\n",
      "\n",
      "\n",
      "Request Method: POST\n",
      "Request URL: h\n"
     ]
    }
   ],
   "source": [
    "# then we create a Strain\n",
    "# redoc tells us we need a dict like this:\n",
    "#    \"Subtype\": \"string\",\n",
    "#    \"Description\": \"string\",\n",
    "#    \"responsible\": integer (linking to a user)\n",
    "#    \"Species\": integer (linking to a species option)\n",
    "#    \"ParentStrain\": integer (linking to a strain)\n",
    "#    \"Plasmids\": array of integers\n",
    "#\n",
    "# Species is required...ok then we need to create species option\n",
    "# A SpeciesOption just requires a name\n",
    "res = c.post(f\"{base_url}/api/SpeciesOption/\", data={'name': 'ecoli'})\n",
    "# now the name has to be unique, so if it already exists you will get a returned status_code of 500\n",
    "# to see more details on the error, try running this cell twice\n",
    "if res.status_code > 300:\n",
    "    print(res.content.decode()[:200])  # just showing the first 200 character of the error message because its loooong\n",
    "else:\n",
    "    print(res.json())"
   ]
  },
  {
   "cell_type": "code",
   "execution_count": 32,
   "metadata": {},
   "outputs": [],
   "source": [
    "# now get the id of the option\n",
    "options = c.get(f\"{base_url}/api/SpeciesOption/\", params={'name': 'ecoli'}).json()\n",
    "ecoli_option = options[0]['id']"
   ]
  },
  {
   "cell_type": "code",
   "execution_count": 33,
   "metadata": {},
   "outputs": [
    {
     "name": "stdout",
     "output_type": "stream",
     "text": [
      "201\n"
     ]
    },
    {
     "data": {
      "text/plain": [
       "{'id': 5,\n",
       " 'name': 'ST5',\n",
       " 'Genbank_file': None,\n",
       " 'created': '2020-05-08T15:05:02.375540+02:00',\n",
       " 'edited': '2020-05-08T15:05:02.375574+02:00',\n",
       " 'Subtype': None,\n",
       " 'Description': None,\n",
       " 'responsible': 1,\n",
       " 'Species': 2,\n",
       " 'ParentStrain': None,\n",
       " 'Plasmids': [1]}"
      ]
     },
     "execution_count": 33,
     "metadata": {},
     "output_type": "execute_result"
    }
   ],
   "source": [
    "# ok back to creating the strain\n",
    "data = {\n",
    "    \"responsible\": my_user_id,\n",
    "    \"Species\": ecoli_option,\n",
    "    \"Plasmids\": [plasmid_id]  # there could be more than 1 plasmids here\n",
    "}\n",
    "res = c.post(f\"{base_url}/api/Strain/\", data=data)\n",
    "print(res.status_code)\n",
    "res.json()"
   ]
  },
  {
   "cell_type": "code",
   "execution_count": 38,
   "metadata": {},
   "outputs": [
    {
     "name": "stdout",
     "output_type": "stream",
     "text": [
      "Attempting to pre-upload file in 1 chunk(s)\n",
      "Uploading final chunk\n",
      "\t<Response [201]>: File successfully uploaded and named: 1198824_api_example.ipynb\n",
      "Attempting to attach file to object\n",
      "<Response [200]>\n"
     ]
    },
    {
     "data": {
      "text/plain": [
       "{'id': 5,\n",
       " 'name': 'ST5',\n",
       " 'Genbank_file': 'http://localhost/downloads/Strain/ST5/1198824_api_example.ipynb',\n",
       " 'created': '2020-05-08T15:05:02.375540+02:00',\n",
       " 'edited': '2020-05-08T15:10:34.742940+02:00',\n",
       " 'Subtype': None,\n",
       " 'Description': None,\n",
       " 'responsible': 1,\n",
       " 'Species': 2,\n",
       " 'ParentStrain': None,\n",
       " 'Plasmids': [1]}"
      ]
     },
     "execution_count": 38,
     "metadata": {},
     "output_type": "execute_result"
    }
   ],
   "source": [
    "# ok lets try and upload a genbank file for that strain. First lets take the id from the res.json object\n",
    "strain_id = res.json()['id']\n",
    "# and then lets import the upload function from upload.py which is a script in this directory\n",
    "from upload import upload_a_file_to_gbex\n",
    "# now the only file I konw you have is this ipynb file, but feel free to change it to something more relevant\n",
    "upload_a_file_to_gbex(\"api_example.ipynb\", auth_token, f\"{base_url}/api/Strain/{strain_id}\", \"Genbank_file\")"
   ]
  },
  {
   "cell_type": "code",
   "execution_count": 44,
   "metadata": {},
   "outputs": [
    {
     "name": "stdout",
     "output_type": "stream",
     "text": [
      "http://localhost/downloads/Strain/ST5/1198824_api_example.ipynb\n"
     ]
    }
   ],
   "source": [
    "# if that succeded you should see you got a 201 and a 200 respsonse and finally you should see the Strain object now with a Genbank_file\n",
    "# Now what if we wanted to download a file via api:\n",
    "file_url = c.get(f\"{base_url}/api/Strain/\", params={'id': strain_id}).json()[0]['Genbank_file']\n",
    "print(file_url)\n",
    "actual_file = c.get(file_url)"
   ]
  },
  {
   "cell_type": "code",
   "execution_count": 50,
   "metadata": {},
   "outputs": [
    {
     "data": {
      "text/plain": [
       "['{\\n',\n",
       " ' \"cells\": [\\n',\n",
       " '  {\\n',\n",
       " '   \"cell_type\": \"markdown\",\\n',\n",
       " '   \"metadata\": {},\\n']"
      ]
     },
     "execution_count": 50,
     "metadata": {},
     "output_type": "execute_result"
    }
   ],
   "source": [
    "# now we actually have the file in \"actual_file\". But how do we use it?\n",
    "#we could write to disk by executing the next 2 lines\n",
    "#with open('save_name.txt', 'wb') as f:\n",
    "#    f.write(actual_file.content)\n",
    "\n",
    "# however if you want to just use it directly in python that often requires a file like object\n",
    "from io import StringIO  # using stringIo to convert the \"file\" variable into a file-like objext\n",
    "file_like_object = StringIO(actual_file.text)\n",
    "file_like_object.readlines()[:5] # show first 5 lines of file"
   ]
  },
  {
   "cell_type": "code",
   "execution_count": 57,
   "metadata": {},
   "outputs": [],
   "source": [
    "# now finally I want to show you how to use the datetime required in the Fermentation model\n",
    "import pytz\n",
    "from datetime import datetime"
   ]
  },
  {
   "cell_type": "code",
   "execution_count": 58,
   "metadata": {},
   "outputs": [],
   "source": [
    "time_string = datetime.now().replace(tzinfo=pytz.timezone(\"Europe/Copenhagen\")).replace(microsecond=0).isoformat()"
   ]
  },
  {
   "cell_type": "code",
   "execution_count": 59,
   "metadata": {},
   "outputs": [
    {
     "name": "stdout",
     "output_type": "stream",
     "text": [
      "201\n"
     ]
    },
    {
     "data": {
      "text/plain": [
       "{'id': 3,\n",
       " 'name': 'FE3',\n",
       " 'Data_file': None,\n",
       " 'created': '2020-05-08T15:26:46.449234+02:00',\n",
       " 'edited': '2020-05-08T15:26:46.449257+02:00',\n",
       " 'RunDate': '2020-05-08T16:36:32+02:00',\n",
       " 'responsible': None,\n",
       " 'Strain': None}"
      ]
     },
     "execution_count": 59,
     "metadata": {},
     "output_type": "execute_result"
    }
   ],
   "source": [
    "data = {\n",
    "    \"RunDate\": time_string,\n",
    "}\n",
    "res = c.post(f\"{base_url}/api/Fermentation/\", data=data)\n",
    "print(res.status_code)\n",
    "res.json()"
   ]
  },
  {
   "cell_type": "code",
   "execution_count": 60,
   "metadata": {},
   "outputs": [],
   "source": [
    "# There you go. Now you know EVERYTHING!"
   ]
  },
  {
   "cell_type": "code",
   "execution_count": null,
   "metadata": {},
   "outputs": [],
   "source": []
  }
 ],
 "metadata": {
  "kernelspec": {
   "display_name": "Python 3",
   "language": "python",
   "name": "python3"
  },
  "language_info": {
   "codemirror_mode": {
    "name": "ipython",
    "version": 3
   },
   "file_extension": ".py",
   "mimetype": "text/x-python",
   "name": "python",
   "nbconvert_exporter": "python",
   "pygments_lexer": "ipython3",
   "version": "3.8.2"
  },
  "pycharm": {
   "stem_cell": {
    "cell_type": "raw",
    "metadata": {
     "collapsed": false
    },
    "source": []
   }
  }
 },
 "nbformat": 4,
 "nbformat_minor": 4
}
